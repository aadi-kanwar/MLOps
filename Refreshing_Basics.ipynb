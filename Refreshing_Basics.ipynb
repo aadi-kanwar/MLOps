{
  "nbformat": 4,
  "nbformat_minor": 0,
  "metadata": {
    "colab": {
      "provenance": [],
      "gpuType": "T4",
      "authorship_tag": "ABX9TyP3dKxpb4siv/UxRnzXea+N",
      "include_colab_link": true
    },
    "kernelspec": {
      "name": "python3",
      "display_name": "Python 3"
    },
    "language_info": {
      "name": "python"
    },
    "accelerator": "GPU"
  },
  "cells": [
    {
      "cell_type": "markdown",
      "metadata": {
        "id": "view-in-github",
        "colab_type": "text"
      },
      "source": [
        "<a href=\"https://colab.research.google.com/github/aadi-kanwar/MLOps/blob/main/Refreshing_Basics.ipynb\" target=\"_parent\"><img src=\"https://colab.research.google.com/assets/colab-badge.svg\" alt=\"Open In Colab\"/></a>"
      ]
    },
    {
      "cell_type": "markdown",
      "source": [
        "## Pandas"
      ],
      "metadata": {
        "id": "9hA08vLH1dsH"
      }
    },
    {
      "cell_type": "code",
      "execution_count": 1,
      "metadata": {
        "colab": {
          "base_uri": "https://localhost:8080/"
        },
        "id": "dOQYIIWYysZn",
        "outputId": "90f1e716-3084-42ff-a751-d11e5178c6d6"
      },
      "outputs": [
        {
          "output_type": "stream",
          "name": "stdout",
          "text": [
            "          Name  Age       City\n",
            "0         Agil   25    Chennai\n",
            "1  Kaarmugilan   30  Bangalore\n",
            "2    Rakshitha   35     Trichy\n",
            "          Name  Age       City\n",
            "1  Kaarmugilan   30  Bangalore\n",
            "2    Rakshitha   35     Trichy\n",
            "<class 'pandas.core.frame.DataFrame'>\n",
            "RangeIndex: 3 entries, 0 to 2\n",
            "Data columns (total 3 columns):\n",
            " #   Column  Non-Null Count  Dtype \n",
            "---  ------  --------------  ----- \n",
            " 0   Name    3 non-null      object\n",
            " 1   Age     3 non-null      int64 \n",
            " 2   City    3 non-null      object\n",
            "dtypes: int64(1), object(2)\n",
            "memory usage: 204.0+ bytes\n"
          ]
        }
      ],
      "source": [
        "import pandas as pd\n",
        "\n",
        "data = {'Name':['Agil', 'Kaarmugilan', 'Rakshitha'],\n",
        "        'Age': [25, 30, 35],\n",
        "        'City': ['Chennai', 'Bangalore', 'Trichy']}\n",
        "df = pd.DataFrame(data)\n",
        "\n",
        "print(df)\n",
        "\n",
        "filter_df = df[df['Age'] > 25]\n",
        "print(filter_df)\n",
        "\n",
        "df.info()"
      ]
    },
    {
      "cell_type": "code",
      "source": [
        "calories = {\"day1\": 420, \"day2\": 380, \"day3\": 390}\n",
        "\n",
        "myvar = pd.Series(calories, index = [\"day1\", \"day2\"])\n",
        "\n",
        "print(myvar)"
      ],
      "metadata": {
        "colab": {
          "base_uri": "https://localhost:8080/"
        },
        "id": "d6vxrH7rzhX3",
        "outputId": "b3a385b5-43ce-4d70-b509-27e2a24e68f1"
      },
      "execution_count": 2,
      "outputs": [
        {
          "output_type": "stream",
          "name": "stdout",
          "text": [
            "day1    420\n",
            "day2    380\n",
            "dtype: int64\n"
          ]
        }
      ]
    },
    {
      "cell_type": "markdown",
      "source": [
        "## Numpy"
      ],
      "metadata": {
        "id": "zw3ymniD1gM5"
      }
    },
    {
      "cell_type": "code",
      "source": [
        "import numpy as np\n",
        "\n",
        "arr = np.array([1, 2, 3, 4, 5])\n",
        "\n",
        "sq_arr = arr ** 3\n",
        "print(\"Squared Array: \",sq_arr)"
      ],
      "metadata": {
        "colab": {
          "base_uri": "https://localhost:8080/"
        },
        "id": "vDxoBbl9z3wO",
        "outputId": "56e2c6a0-3256-498b-d60c-020f765972af"
      },
      "execution_count": 3,
      "outputs": [
        {
          "output_type": "stream",
          "name": "stdout",
          "text": [
            "Squared Array:  [  1   8  27  64 125]\n"
          ]
        }
      ]
    },
    {
      "cell_type": "code",
      "source": [
        "# 2D Array using numpy\n",
        "a = np.array([[1, 2], [4, 5]])\n",
        "b = np.array([[7, 8], [10, 11]])\n",
        "result = np.dot(a, b)\n",
        "print(result)"
      ],
      "metadata": {
        "colab": {
          "base_uri": "https://localhost:8080/"
        },
        "id": "c2QANoyd0INS",
        "outputId": "9294552d-75d0-4930-ed82-5f148836e171"
      },
      "execution_count": 4,
      "outputs": [
        {
          "output_type": "stream",
          "name": "stdout",
          "text": [
            "[[27 30]\n",
            " [78 87]]\n"
          ]
        }
      ]
    },
    {
      "cell_type": "markdown",
      "source": [
        "## Tensorflow"
      ],
      "metadata": {
        "id": "f8WFfeo81h4p"
      }
    },
    {
      "cell_type": "code",
      "source": [
        "import tensorflow as tf\n",
        "from tensorflow import keras\n",
        "from tensorflow.keras import layers\n",
        "from tensorflow.keras.datasets import mnist\n",
        "\n",
        "# Load the MNIST dataset\n",
        "\n",
        "(x_train, y_train), (x_test, y_test) = keras.datasets.mnist.load_data()\n",
        "\n",
        "# Reshape x_train and x_test to (num_samples, 784)\n",
        "x_train = x_train.reshape(x_train.shape[0], 784) # Reshape x_train to (60000, 784)\n",
        "x_test = x_test.reshape(x_test.shape[0], 784)   # Reshape x_test to (10000, 784)\n",
        "\n",
        "# Normalize pixel values to be between 0 and 1\n",
        "x_train = x_train.astype('float32') / 255\n",
        "x_test = x_test.astype('float32') / 255\n",
        "\n",
        "model = keras.Sequential([\n",
        "    keras.layers.Dense(128, activation='relu', input_shape=(784,)),\n",
        "    keras.layers.Dense(10, activation='softmax')\n",
        "])\n",
        "\n",
        "model.compile(optimizer='adam',\n",
        "              loss='sparse_categorical_crossentropy',\n",
        "              metrics=['accuracy'])\n",
        "\n",
        "model.fit(x_train, y_train, epochs=5, batch_size=32)\n",
        "\n",
        "print(\"*\" * 80)\n",
        "\n",
        "test_loss, test_acc = model.evaluate(x_test, y_test)\n",
        "\n",
        "print(\"*\" * 80)\n",
        "\n",
        "print('Test accuracy:', (float(test_acc)*100:.2f))"
      ],
      "metadata": {
        "id": "DIfDchZ31990"
      },
      "execution_count": null,
      "outputs": []
    },
    {
      "cell_type": "markdown",
      "source": [
        "## Pytorch"
      ],
      "metadata": {
        "id": "7XM4Wwcz6MyS"
      }
    },
    {
      "cell_type": "code",
      "source": [
        "import torch\n",
        "import torch.nn as nn\n",
        "import torch.optim as optim\n",
        "\n",
        "# Define a Simple Neural Network\n",
        "class SimpleNN(nn.Module):\n",
        "    def __init__(self):\n",
        "        super(SimpleNN, self).__init__()\n",
        "        self.fc1 = nn.Linear(784, 128)\n",
        "        self.fc2 = nn.Linear(128, 10)\n",
        "\n",
        "    def forward(self, x):\n",
        "        x = torch.relu(self.fc1(x))\n",
        "        x = self.fc2(x)\n",
        "        return x\n",
        "\n",
        "# Instantiate & train the model\n",
        "model = SimpleNN()\n",
        "criterion = nn.CrossEntropyLoss()\n",
        "optimizer = optim.Adam(model.parameters())\n",
        "\n",
        "# Dummy Training Loop\n",
        "for epoch in range(5):\n",
        "    # Convert x_train to a PyTorch Tensor before passing it to the model\n",
        "    outputs = model(torch.tensor(x_train))\n",
        "    loss = criterion(outputs, torch.tensor(y_train, dtype=torch.long)) # Convert y_train to LongTensor\n",
        "    optimizer.zero_grad()\n",
        "    loss.backward()\n",
        "    optimizer.step()"
      ],
      "metadata": {
        "id": "Nq4bsjHG64bV"
      },
      "execution_count": 11,
      "outputs": []
    },
    {
      "cell_type": "code",
      "source": [
        "import numpy as np\n",
        "from sklearn.model_selection import train_test_split\n",
        "from sklearn.metrics import mean_squared_error\n",
        "import tensorflow as tf\n",
        "import torch\n",
        "import torch.nn as nn\n",
        "import torch.optim as optim\n",
        "from sklearn.datasets import load_diabetes\n",
        "\n",
        "# Load dataset\n",
        "data = load_diabetes()\n",
        "X = data.data  # Features\n",
        "y = data.target.reshape(-1, 1)  # Labels\n",
        "\n",
        "# Split data into training and testing sets\n",
        "X_train, X_test, y_train, y_test = train_test_split(X, y, test_size=0.2, random_state=42)\n",
        "\n",
        "# Using TensorFlow\n",
        "print(\"--- TensorFlow ---\")\n",
        "model_tf = tf.keras.Sequential([\n",
        "    tf.keras.layers.Dense(1, input_shape=(X_train.shape[1],), activation='linear')\n",
        "])\n",
        "model_tf.compile(optimizer='adam', loss='mse')\n",
        "model_tf.fit(X_train, y_train, epochs=100, verbose=0)\n",
        "y_pred_tf = model_tf.predict(X_test)\n",
        "print(\"MSE (TensorFlow):\", mean_squared_error(y_test, y_pred_tf))\n",
        "\n",
        "# Using scikit-learn\n",
        "print(\"--- scikit-learn ---\")\n",
        "from sklearn.linear_model import LinearRegression\n",
        "model_sklearn = LinearRegression()\n",
        "model_sklearn.fit(X_train, y_train)\n",
        "y_pred_sklearn = model_sklearn.predict(X_test)\n",
        "print(\"MSE (scikit-learn):\", mean_squared_error(y_test, y_pred_sklearn))\n",
        "\n",
        "# Using PyTorch\n",
        "print(\"--- PyTorch ---\")\n",
        "class LinearRegressionModel(nn.Module):\n",
        "    def __init__(self):\n",
        "        super(LinearRegressionModel, self).__init__()\n",
        "        self.linear = nn.Linear(X_train.shape[1], 1)\n",
        "\n",
        "    def forward(self, x):\n",
        "        return self.linear(x)\n",
        "\n",
        "model_torch = LinearRegressionModel()\n",
        "criterion = nn.MSELoss()\n",
        "optimizer = optim.Adam(model_torch.parameters(), lr=0.01)\n",
        "\n",
        "X_train_torch = torch.tensor(X_train, dtype=torch.float32)\n",
        "y_train_torch = torch.tensor(y_train, dtype=torch.float32)\n",
        "X_test_torch = torch.tensor(X_test, dtype=torch.float32)\n",
        "y_test_torch = torch.tensor(y_test, dtype=torch.float32)\n",
        "\n",
        "# Training loop\n",
        "for epoch in range(100):\n",
        "    model_torch.train()\n",
        "    optimizer.zero_grad()\n",
        "    predictions = model_torch(X_train_torch)\n",
        "    loss = criterion(predictions, y_train_torch)\n",
        "    loss.backward()\n",
        "    optimizer.step()\n",
        "\n",
        "model_torch.eval()\n",
        "y_pred_torch = model_torch(X_test_torch).detach().numpy()\n",
        "print(\"MSE (PyTorch):\", mean_squared_error(y_test, y_pred_torch))\n"
      ],
      "metadata": {
        "colab": {
          "base_uri": "https://localhost:8080/"
        },
        "id": "HhPn0ceO7ywA",
        "outputId": "59dd40f7-cb7f-4680-ec41-50c43b385e47"
      },
      "execution_count": 15,
      "outputs": [
        {
          "output_type": "stream",
          "name": "stdout",
          "text": [
            "--- TensorFlow ---\n"
          ]
        },
        {
          "output_type": "stream",
          "name": "stderr",
          "text": [
            "/usr/local/lib/python3.11/dist-packages/keras/src/layers/core/dense.py:87: UserWarning: Do not pass an `input_shape`/`input_dim` argument to a layer. When using Sequential models, prefer using an `Input(shape)` object as the first layer in the model instead.\n",
            "  super().__init__(activity_regularizer=activity_regularizer, **kwargs)\n"
          ]
        },
        {
          "output_type": "stream",
          "name": "stdout",
          "text": [
            "\u001b[1m3/3\u001b[0m \u001b[32m━━━━━━━━━━━━━━━━━━━━\u001b[0m\u001b[37m\u001b[0m \u001b[1m0s\u001b[0m 40ms/step\n",
            "MSE (TensorFlow): 26195.20517443936\n",
            "--- scikit-learn ---\n",
            "MSE (scikit-learn): 2900.193628493482\n",
            "--- PyTorch ---\n",
            "MSE (PyTorch): 26313.362542915973\n"
          ]
        }
      ]
    },
    {
      "cell_type": "code",
      "source": [],
      "metadata": {
        "id": "10rKx94G9eFQ"
      },
      "execution_count": null,
      "outputs": []
    }
  ]
}