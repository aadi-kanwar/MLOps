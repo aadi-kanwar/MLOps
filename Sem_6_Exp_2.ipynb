{
  "nbformat": 4,
  "nbformat_minor": 0,
  "metadata": {
    "colab": {
      "provenance": [],
      "authorship_tag": "ABX9TyNFTI7K5+e+9mEUFlCvqMUM",
      "include_colab_link": true
    },
    "kernelspec": {
      "name": "python3",
      "display_name": "Python 3"
    },
    "language_info": {
      "name": "python"
    }
  },
  "cells": [
    {
      "cell_type": "markdown",
      "metadata": {
        "id": "view-in-github",
        "colab_type": "text"
      },
      "source": [
        "<a href=\"https://colab.research.google.com/github/aadi-kanwar/MLOps/blob/main/Sem_6_Exp_2.ipynb\" target=\"_parent\"><img src=\"https://colab.research.google.com/assets/colab-badge.svg\" alt=\"Open In Colab\"/></a>"
      ]
    },
    {
      "cell_type": "code",
      "execution_count": 1,
      "metadata": {
        "colab": {
          "base_uri": "https://localhost:8080/"
        },
        "id": "dC7_aWlwUGR_",
        "outputId": "b6acf178-7727-40c8-f572-761932f9f4ba"
      },
      "outputs": [
        {
          "output_type": "stream",
          "name": "stdout",
          "text": [
            "Transformed Training Data:\n",
            " [[ 0.52489066  1.22474487  1.          0.        ]\n",
            " [-1.39970842 -1.22474487  0.          1.        ]\n",
            " [ 0.87481777  0.          0.          1.        ]]\n",
            "\n",
            "Transformed Test Data:\n",
            " [[-0.78733599 -0.73484692  1.          0.        ]\n",
            " [ 1.83711731  0.45490524  1.          0.        ]]\n"
          ]
        }
      ],
      "source": [
        "import numpy as np\n",
        "import pandas as pd\n",
        "from sklearn.model_selection import train_test_split\n",
        "from sklearn.preprocessing import StandardScaler, OneHotEncoder\n",
        "from sklearn.compose import ColumnTransformer\n",
        "from sklearn.pipeline import Pipeline\n",
        "\n",
        "# Sample dataset creation\n",
        "# Create a small dataset with numerical and categorical features\n",
        "data = {\n",
        "    'age': [25, 32, 47, 51, 62],\n",
        "    'income': [50000, 64000, 120000, 85000, 98000],\n",
        "    'gender': ['male', 'female', 'female', 'male', 'female'],\n",
        "    'purchased': [0, 1, 1, 0, 1]  # Target variable\n",
        "}\n",
        "df = pd.DataFrame(data)\n",
        "\n",
        "# Split features and target variable\n",
        "X = df.drop(columns='purchased')\n",
        "y = df['purchased']\n",
        "\n",
        "# Split data into training and testing sets\n",
        "X_train, X_test, y_train, y_test = train_test_split(X, y, test_size=0.3, random_state=42)\n",
        "\n",
        "# Define preprocessing steps\n",
        "# Numerical features: Standardization\n",
        "# Categorical features: One-hot encoding\n",
        "numerical_features = ['age', 'income']\n",
        "categorical_features = ['gender']\n",
        "\n",
        "numerical_transformer = StandardScaler()\n",
        "categorical_transformer = OneHotEncoder()\n",
        "\n",
        "# Combine transformations using ColumnTransformer\n",
        "preprocessor = ColumnTransformer(\n",
        "    transformers=[\n",
        "        ('num', numerical_transformer, numerical_features),\n",
        "        ('cat', categorical_transformer, categorical_features)\n",
        "    ]\n",
        ")\n",
        "\n",
        "# Create a pipeline with preprocessing\n",
        "pipeline = Pipeline([\n",
        "    ('preprocessor', preprocessor)  # Preprocessing step\n",
        "])\n",
        "\n",
        "# Fit and transform the training data\n",
        "X_train_transformed = pipeline.fit_transform(X_train)\n",
        "\n",
        "# Transform the test data\n",
        "X_test_transformed = pipeline.transform(X_test)\n",
        "\n",
        "# Display results\n",
        "print(\"Transformed Training Data:\\n\", X_train_transformed.toarray() if hasattr(X_train_transformed, 'toarray') else X_train_transformed)\n",
        "print(\"\\nTransformed Test Data:\\n\", X_test_transformed.toarray() if hasattr(X_test_transformed, 'toarray') else X_test_transformed)\n"
      ]
    },
    {
      "cell_type": "code",
      "source": [],
      "metadata": {
        "id": "tn3T0-9WUIK5"
      },
      "execution_count": null,
      "outputs": []
    }
  ]
}